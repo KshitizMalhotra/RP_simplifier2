{
 "cells": [
  {
   "cell_type": "code",
   "execution_count": 6,
   "metadata": {
    "collapsed": false
   },
   "outputs": [],
   "source": [
    "import pickle as pkl\n",
    "from collections import Counter\n",
    "import keras"
   ]
  },
  {
   "cell_type": "code",
   "execution_count": 10,
   "metadata": {
    "collapsed": false
   },
   "outputs": [],
   "source": [
    "with open('GAN.txt', 'r') as dt:\n",
    "    heads, desc, keywords = pickle.load(dt) "
   ]
  },
  {
   "cell_type": "code",
   "execution_count": null,
   "metadata": {
    "collapsed": false
   },
   "outputs": [],
   "source": [
    "i = 0;\n",
    "heads[i]\n",
    "desc[i]"
   ]
  },
  {
   "cell_type": "code",
   "execution_count": null,
   "metadata": {
    "collapsed": true
   },
   "outputs": [],
   "source": [
    "def get_vocab(lst):\n",
    "    vocabcount, vocab=  Counter(w for lst for w in txt.spilt())\n",
    "    return vocab, vocabcount\n",
    "\n",
    "vocab, vocabcount = get_vocab(head+desc)\n",
    "\n",
    "\n",
    "print(vocab[:50]\n",
    "print('   ', len(vocab))"
   ]
  },
  {
   "cell_type": "code",
   "execution_count": null,
   "metadata": {
    "collapsed": true
   },
   "outputs": [],
   "source": [
    "path = 'glove.6B.zip'\n",
    "glove_weights = get_glove_weights(path, origin = \"http://nlp.stnford.edu/data/glove.6B.zip\")\n",
    "word_embeddings = pk.build_glove_matrix()"
   ]
  },
  {
   "cell_type": "code",
   "execution_count": null,
   "metadata": {
    "collapsed": true
   },
   "outputs": [],
   "source": [
    "#Keras LSTM-RNN\n",
    "def build_model(embeddings):\n",
    "    stacked_layer_no = 3\n",
    "    model = Sequential()\n",
    "    model.add(Embeddings(weights = [embedding], name = 'embedding_1'))\n",
    "    for i in range(stacked_layer_no):\n",
    "        lstm = LSTM(rnn_size, name = 'lstm_%d'%(i+1))\n",
    "        model.add(lstm)\n",
    "        model.add(Dropout(p_dense,name = 'dropout_%d'%(i+1)))\n",
    "    model.add(Dense())\n",
    "    model.add(Activation('softmax', name = 'activation'))\n",
    "    return model"
   ]
  },
  {
   "cell_type": "code",
   "execution_count": null,
   "metadata": {
    "collapsed": true
   },
   "outputs": [],
   "source": [
    "#Seq2seq\n",
    "#encoder, words to sequential vetors \n",
    "\n",
    "# wrapper part, could have used codecs\n",
    "\n",
    "encoder = build_model(word_embeddings)\n",
    "encoder.compile(loss = 'categorical_crossentropy', optimizer = 'rmsprop')\n",
    "encoder.save_weights('embeddings.pkl',overwrite = True)"
   ]
  },
  {
   "cell_type": "code",
   "execution_count": null,
   "metadata": {
    "collapsed": true
   },
   "outputs": [],
   "source": [
    "#decoder, sequential vectors to words\n",
    "with open('embeddings.pkl','rb')\n",
    "    embeddings = pickle.load(dt)\n",
    "decoder = build_model(embeddings)"
   ]
  },
  {
   "cell_type": "code",
   "execution_count": null,
   "metadata": {
    "collapsed": true
   },
   "outputs": [],
   "source": [
    "summary = pr.gen_sum(decoder, desc[2])"
   ]
  }
 ],
 "metadata": {
  "kernelspec": {
   "display_name": "Python 3",
   "language": "python",
   "name": "python3"
  },
  "language_info": {
   "codemirror_mode": {
    "name": "ipython",
    "version": 3
   },
   "file_extension": ".py",
   "mimetype": "text/x-python",
   "name": "python",
   "nbconvert_exporter": "python",
   "pygments_lexer": "ipython3",
   "version": "3.6.0"
  }
 },
 "nbformat": 4,
 "nbformat_minor": 2
}
